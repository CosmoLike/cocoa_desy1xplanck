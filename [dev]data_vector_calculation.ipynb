{
 "cells": [
  {
   "cell_type": "code",
   "execution_count": 9,
   "metadata": {},
   "outputs": [
    {
     "name": "stdout",
     "output_type": "stream",
     "text": [
      "Load anaconda\n",
      "Init conda\n",
      "no change     /opt/ohpc/pub/apps/anaconda/2020.11/condabin/conda\n",
      "no change     /opt/ohpc/pub/apps/anaconda/2020.11/bin/conda\n",
      "no change     /opt/ohpc/pub/apps/anaconda/2020.11/bin/conda-env\n",
      "no change     /opt/ohpc/pub/apps/anaconda/2020.11/bin/activate\n",
      "no change     /opt/ohpc/pub/apps/anaconda/2020.11/bin/deactivate\n",
      "no change     /opt/ohpc/pub/apps/anaconda/2020.11/etc/profile.d/conda.sh\n",
      "no change     /opt/ohpc/pub/apps/anaconda/2020.11/etc/fish/conf.d/conda.fish\n",
      "no change     /opt/ohpc/pub/apps/anaconda/2020.11/shell/condabin/Conda.psm1\n",
      "no change     /opt/ohpc/pub/apps/anaconda/2020.11/shell/condabin/conda-hook.ps1\n",
      "no change     /opt/ohpc/pub/apps/anaconda/2020.11/lib/python3.8/site-packages/xontrib/conda.xsh\n",
      "no change     /opt/ohpc/pub/apps/anaconda/2020.11/etc/profile.d/conda.csh\n",
      "no change     /home/u17/jiachuanxu/.bashrc\n",
      "No action taken.\n",
      "Activate cocoa env\n",
      "Setting cocoa env\n"
     ]
    }
   ],
   "source": [
    "%%bash\n",
    "source ~/.bashrc\n",
    "echo \"Load anaconda\"\n",
    "module load anaconda\n",
    "echo \"Init conda\"\n",
    "conda init bash\n",
    "echo \"Activate cocoa env\"\n",
    "conda activate cocoa\n",
    "echo \"Setting cocoa env\"\n",
    "cd /home/u17/jiachuanxu/cocoa/Cocoa\n",
    "source start_cocoa"
   ]
  },
  {
   "cell_type": "code",
   "execution_count": 17,
   "metadata": {},
   "outputs": [
    {
     "name": "stdout",
     "output_type": "stream",
     "text": [
      "\n",
      "/opt/ohpc/pub/apps/R/4.0.0/bin:/opt/ohpc/pub/apps/python/3.8.2/bin:/opt/ohpc/pub/mpi/openmpi3-gnu8/3.1.4/bin:/opt/ohpc/pub/compiler/gcc/8.3.0/bin:/opt/ohpc/pub/utils/prun/1.3:/opt/ohpc/pub/utils/autotools/bin:/opt/ohpc/pub/bin:/opt/ohpc/pub/apps/anaconda/2020.11/bin:/opt/ohpc/pub/apps/anaconda/2020.11/condabin:/opt/TurboVNC/bin:/usr/local/bin:/bin:/usr/bin:/usr/local/sbin:/usr/sbin:/home/u17/jiachuanxu/.local/bin:/home/u17/jiachuanxu/bin\n"
     ]
    }
   ],
   "source": [
    "%%bash\n",
    "echo ${PYTHONPATH}\n",
    "echo ${PATH}"
   ]
  },
  {
   "cell_type": "code",
   "execution_count": 19,
   "metadata": {},
   "outputs": [
    {
     "ename": "ModuleNotFoundError",
     "evalue": "No module named 'cosmolike_desy1xplanck_interface'",
     "output_type": "error",
     "traceback": [
      "\u001b[0;31m---------------------------------------------------------------------------\u001b[0m",
      "\u001b[0;31mModuleNotFoundError\u001b[0m                       Traceback (most recent call last)",
      "\u001b[0;32m<ipython-input-19-ecbf675d261a>\u001b[0m in \u001b[0;36m<module>\u001b[0;34m\u001b[0m\n\u001b[1;32m      3\u001b[0m \u001b[0mos\u001b[0m\u001b[0;34m.\u001b[0m\u001b[0mchdir\u001b[0m\u001b[0;34m(\u001b[0m\u001b[0;34m\"/home/u17/jiachuanxu/cocoa/Cocoa/projects/desy1xplanck/likelihood\"\u001b[0m\u001b[0;34m)\u001b[0m\u001b[0;34m\u001b[0m\u001b[0;34m\u001b[0m\u001b[0m\n\u001b[1;32m      4\u001b[0m \u001b[0;34m\u001b[0m\u001b[0m\n\u001b[0;32m----> 5\u001b[0;31m \u001b[0;32mimport\u001b[0m \u001b[0mcosmolike_desy1xplanck_interface\u001b[0m \u001b[0;32mas\u001b[0m \u001b[0mci\u001b[0m\u001b[0;34m\u001b[0m\u001b[0;34m\u001b[0m\u001b[0m\n\u001b[0m\u001b[1;32m      6\u001b[0m \u001b[0;32mfrom\u001b[0m \u001b[0mcobaya\u001b[0m\u001b[0;34m.\u001b[0m\u001b[0mlikelihoods\u001b[0m\u001b[0;34m.\u001b[0m\u001b[0mdesy1xplanck\u001b[0m\u001b[0;34m.\u001b[0m\u001b[0m_cosmolike_prototype_base\u001b[0m \u001b[0;32mimport\u001b[0m \u001b[0m_cosmolike_prototype_base\u001b[0m\u001b[0;34m\u001b[0m\u001b[0;34m\u001b[0m\u001b[0m\n\u001b[1;32m      7\u001b[0m \u001b[0;34m\u001b[0m\u001b[0m\n",
      "\u001b[0;31mModuleNotFoundError\u001b[0m: No module named 'cosmolike_desy1xplanck_interface'"
     ]
    }
   ],
   "source": [
    "import sys, os\n",
    "sys.path.append(\"/home/u17/jiachuanxu/cocoa/Cocoa/.local/lib/python3.7/site-packages\")\n",
    "os.chdir(\"/home/u17/jiachuanxu/cocoa/Cocoa/projects/desy1xplanck/likelihood\")\n",
    "\n",
    "import cosmolike_desy1xplanck_interface as ci\n",
    "from cobaya.likelihoods.desy1xplanck._cosmolike_prototype_base import _cosmolike_prototype_base\n",
    "\n",
    "import numpy as np"
   ]
  },
  {
   "cell_type": "code",
   "execution_count": 13,
   "metadata": {},
   "outputs": [
    {
     "name": "stdout",
     "output_type": "stream",
     "text": [
      "['/home/u17/jiachuanxu/cocoa/Cocoa/projects/desy1xplanck', '/opt/ohpc/pub/apps/python/3.8.2/lib/python38.zip', '/opt/ohpc/pub/apps/python/3.8.2/lib/python3.8', '/opt/ohpc/pub/apps/python/3.8.2/lib/python3.8/lib-dynload', '', '/opt/ohpc/pub/apps/python/3.8.2/lib/python3.8/site-packages', '/opt/ohpc/pub/apps/python/3.8.2/lib/python3.8/site-packages/IPython/extensions', '/home/u17/jiachuanxu/.ipython', '/home/u17/jiachuanxu/cocoa/Cocoa/.local/lib/python3.7/site-packages/', '/home/u17/jiachuanxu/cocoa/Cocoa/.local/lib/python3.7/site-packages']\n"
     ]
    }
   ],
   "source": [
    "print(sys.path)"
   ]
  },
  {
   "cell_type": "code",
   "execution_count": null,
   "metadata": {},
   "outputs": [],
   "source": []
  }
 ],
 "metadata": {
  "kernelspec": {
   "display_name": "Python 3",
   "language": "python",
   "name": "python3"
  },
  "language_info": {
   "codemirror_mode": {
    "name": "ipython",
    "version": 3
   },
   "file_extension": ".py",
   "mimetype": "text/x-python",
   "name": "python",
   "nbconvert_exporter": "python",
   "pygments_lexer": "ipython3",
   "version": "3.8.2"
  }
 },
 "nbformat": 4,
 "nbformat_minor": 4
}
